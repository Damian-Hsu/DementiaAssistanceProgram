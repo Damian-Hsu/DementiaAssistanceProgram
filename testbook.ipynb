{
 "cells": [
  {
   "cell_type": "code",
   "execution_count": null,
   "id": "078653c0",
   "metadata": {},
   "outputs": [
    {
     "name": "stdout",
     "output_type": "stream",
     "text": [
      "e\n"
     ]
    }
   ],
   "source": [
    "from typing import Union, Annotated\n",
    "def get_value(k:Union[str,list], idx:int):\n",
    "    return k[idx]\n",
    "\n",
    "print(get_value(\"hello\", 1))  # Output: 'e'"
   ]
  },
  {
   "cell_type": "code",
   "execution_count": 7,
   "id": "233a99f4",
   "metadata": {},
   "outputs": [
    {
     "name": "stdout",
     "output_type": "stream",
     "text": [
      "3\n"
     ]
    }
   ],
   "source": [
    "print(get_value([1,2,3,4],2))"
   ]
  },
  {
   "cell_type": "code",
   "execution_count": null,
   "id": "3ab361f1",
   "metadata": {},
   "outputs": [],
   "source": [
    "a : Annotated[int, \"This is an integer\"] = 5\n",
    "print(a)  # Output: 5"
   ]
  },
  {
   "cell_type": "code",
   "execution_count": null,
   "id": "40655b69",
   "metadata": {},
   "outputs": [
    {
     "ename": "SyntaxError",
     "evalue": "non-default argument follows default argument (4000954509.py, line 1)",
     "output_type": "error",
     "traceback": [
      "\u001b[1;36m  Cell \u001b[1;32mIn[13], line 1\u001b[1;36m\u001b[0m\n\u001b[1;33m    def add(x:int = 10, y:int)->int:\u001b[0m\n\u001b[1;37m                             ^\u001b[0m\n\u001b[1;31mSyntaxError\u001b[0m\u001b[1;31m:\u001b[0m non-default argument follows default argument\n"
     ]
    }
   ],
   "source": [
    "def add(*, x:int = 10, y:int)->int:\n",
    "    return x+y\n",
    "\n",
    "print(add(x=3,y=4))  # Output: 7"
   ]
  },
  {
   "cell_type": "code",
   "execution_count": null,
   "id": "52de2424",
   "metadata": {},
   "outputs": [
    {
     "name": "stdout",
     "output_type": "stream",
     "text": [
      "0\n",
      "1\n",
      "4\n",
      "9\n",
      "16\n",
      "Finished yielding\n"
     ]
    }
   ],
   "source": [
    "def try_yeild(n:int):\n",
    "    try:\n",
    "        for i in range(n):\n",
    "            yield i*i\n",
    "    finally:\n",
    "        print(\"Finished yielding\")\n",
    "\n",
    "for val in try_yeild(5):\n",
    "    print(val)  # Output: 0, 1, 4, 9, 16"
   ]
  },
  {
   "cell_type": "code",
   "execution_count": 2,
   "id": "49e08f01",
   "metadata": {},
   "outputs": [
    {
     "name": "stdout",
     "output_type": "stream",
     "text": [
      "01990207-2ca6-7c62-b441-89e75a6e094c\n"
     ]
    }
   ],
   "source": [
    "import uuid_utils as uuidu\n",
    "import uuid\n",
    "print(uuidu.uuid7())  # Output: True"
   ]
  },
  {
   "cell_type": "code",
   "execution_count": 1,
   "id": "5b70b6e5",
   "metadata": {},
   "outputs": [
    {
     "name": "stdout",
     "output_type": "stream",
     "text": [
      "True\n"
     ]
    }
   ],
   "source": [
    "import uuid_utils as uuidu\n",
    "import uuid\n",
    "\n",
    "def uuid_util_to_uuid(uuid_util: uuidu.UUID) -> uuid.UUID:\n",
    "    return uuid.UUID(str(uuid_util))\n",
    "\n",
    "print(type(uuid_util_to_uuid(uuidu.uuid7())) is uuid.UUID)  # Output: True\n"
   ]
  },
  {
   "cell_type": "code",
   "execution_count": 3,
   "id": "fff98124",
   "metadata": {},
   "outputs": [
    {
     "name": "stdout",
     "output_type": "stream",
     "text": [
      "ModuleInfo(module_finder=FileFinder('d:\\\\School\\\\畢業專題\\\\demo\\\\DementiaAssistanceProgram\\\\services'), name='APIServer', ispkg=True)\n",
      "ModuleInfo(module_finder=FileFinder('d:\\\\School\\\\畢業專題\\\\demo\\\\DementiaAssistanceProgram\\\\services'), name='ComputeServer', ispkg=True)\n"
     ]
    }
   ],
   "source": [
    "import pkgutil\n",
    "import importlib\n",
    "import services\n",
    "for i in pkgutil.iter_modules(services.__path__):\n",
    "    print(i)\n",
    "    "
   ]
  },
  {
   "cell_type": "code",
   "execution_count": 1,
   "id": "19d45387",
   "metadata": {},
   "outputs": [
    {
     "data": {
      "text/plain": [
       "85.0"
      ]
     },
     "execution_count": 1,
     "metadata": {},
     "output_type": "execute_result"
    }
   ],
   "source": [
    "255/3\n"
   ]
  },
  {
   "cell_type": "code",
   "execution_count": 1,
   "id": "381b2bb2",
   "metadata": {},
   "outputs": [
    {
     "name": "stdout",
     "output_type": "stream",
     "text": [
      "目前 key 數量: 5\n",
      "myKey 不存在\n"
     ]
    }
   ],
   "source": [
    "import redis\n",
    "\n",
    "r = redis.Redis(host='localhost', port=6379, db=0)\n",
    "\n",
    "# 看資料庫大小\n",
    "print(\"目前 key 數量:\", r.dbsize())\n",
    "\n",
    "# 檢查 key 是否存在\n",
    "if r.exists(\"myKey\"):\n",
    "    print(\"myKey 存在，值是:\", r.get(\"myKey\"))\n",
    "else:\n",
    "    print(\"myKey 不存在\")"
   ]
  },
  {
   "cell_type": "code",
   "execution_count": 21,
   "id": "c4fa7f7a",
   "metadata": {},
   "outputs": [
    {
     "name": "stdout",
     "output_type": "stream",
     "text": [
      "你是1歲\n"
     ]
    }
   ],
   "source": [
    "# 將float轉成int\n",
    "\n",
    "Y = float(1.233)\n",
    "\n",
    "print(f\"你是{Y:.0f}歲\")  # Output: 1.233"
   ]
  },
  {
   "cell_type": "code",
   "execution_count": null,
   "id": "583ec827",
   "metadata": {},
   "outputs": [
    {
     "data": {
      "text/plain": [
       "'\\n#include <stdio.h>\\n\\n\\n'"
      ]
     },
     "execution_count": 22,
     "metadata": {},
     "output_type": "execute_result"
    }
   ],
   "source": [
    "\"\"\"\n",
    "#include <stdio.h>\n",
    "int main(argc, *argv[]) {\n",
    "    int a = 10;\n",
    "    printf(\"years: %d\", a);\n",
    "    return 0;\n",
    "}\n",
    "\"\"\""
   ]
  },
  {
   "cell_type": "code",
   "execution_count": null,
   "id": "0c9084da",
   "metadata": {},
   "outputs": [],
   "source": [
    "{\"key\": \"value\"}"
   ]
  }
 ],
 "metadata": {
  "kernelspec": {
   "display_name": "dementia_api_v2",
   "language": "python",
   "name": "python3"
  },
  "language_info": {
   "codemirror_mode": {
    "name": "ipython",
    "version": 3
   },
   "file_extension": ".py",
   "mimetype": "text/x-python",
   "name": "python",
   "nbconvert_exporter": "python",
   "pygments_lexer": "ipython3",
   "version": "3.12.11"
  }
 },
 "nbformat": 4,
 "nbformat_minor": 5
}
